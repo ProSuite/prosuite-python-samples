{
 "cells": [
  {
   "cell_type": "code",
   "execution_count": 5,
   "metadata": {},
   "outputs": [],
   "source": [
    "import sys\n",
    "import os\n",
    "\n",
    "# Füge das Verzeichnis zum Python-Pfad hinzu\n",
    "package_path = r\"C:\\git\\Dira.ProSuiteSolution\\ProSuite.Shared\\py\"\n",
    "if package_path not in sys.path:\n",
    "    sys.path.append(package_path)\n",
    "\n",
    "# Importiere das Paket oder Modul\n",
    "import prosuite.quality as quality\n",
    "\n",
    "# Jetzt kannst du Funktionen oder Klassen aus dem Modul verwenden\n",
    "DdxSpecification = quality.DdxSpecification"
   ]
  },
  {
   "cell_type": "code",
   "execution_count": 2,
   "metadata": {},
   "outputs": [
    {
     "data": {
      "text/plain": [
       "<prosuite.quality.DdxSpecification at 0x25ff4b6fad0>"
      ]
     },
     "execution_count": 2,
     "metadata": {},
     "output_type": "execute_result"
    }
   ],
   "source": [
    "run_verification(DdxSpecification(ddx_id=2868), output_dir, envelope)"
   ]
  },
  {
   "cell_type": "code",
   "execution_count": 3,
   "metadata": {},
   "outputs": [],
   "source": [
    "def run_verification(specification, output_dir, envelope):\n",
    "    # Generate a timestamped directory for output\n",
    "    global output_dir_with_timestamp  # Declare as global to use outside this function\n",
    "\n",
    "    output_dir_with_timestamp = os.path.join(output_dir, f'output_{datetime.now().strftime(\"%Y%m%d_%H%M%S\")}')\n",
    "    os.makedirs(output_dir_with_timestamp, exist_ok=True)\n",
    "    \n",
    "    # Connect to the service\n",
    "    try:\n",
    "        service = ps.Service(host_name='localhost', port_nr=5151)\n",
    "        print(f\"Connected to ProSuite service on localhost:5151\")\n",
    "    except Exception as e:\n",
    "        print(f\"Failed to connect to ProSuite service: {e}\")\n",
    "        return\n",
    "\n",
    "    # Run the verification\n",
    "    try:\n",
    "        verification_responses = service.verify(specification=specification, output_dir=output_dir_with_timestamp, perimeter=envelope) ## Main function to run the verification\n",
    "        \n",
    "        issue_allowable = True  # This will control whether the process continues if non-allowable issues are found\n",
    "        \n",
    "        for verification_response in verification_responses:\n",
    "            # Print general verification message\n",
    "            print(verification_response.message)\n",
    "            \n",
    "            # Check for issues\n",
    "            if len(verification_response.issues) > 0:\n",
    "                for issue in verification_response.issues:\n",
    "                    # Print issue details\n",
    "                    print(issue.description)\n",
    "                    print(issue.involved_objects)\n",
    "                    print(issue.geometry)\n",
    "                    print(issue.issue_code)\n",
    "                    print(issue.allowable)\n",
    "                    print(issue.stop_condition)\n",
    "\n",
    "                    # If an issue is not allowable, stop the verification\n",
    "                    if not issue.allowable:\n",
    "                        print(f\"Not allowed issue met: {issue.description} in {issue.involved_objects[0].table_name}\")\n",
    "                        print(\"Stopping verification\")\n",
    "                        issue_allowable = False\n",
    "                        break\n",
    "\n",
    "            # Break the outer loop if any non-allowable issue is found\n",
    "            if not issue_allowable:\n",
    "                break\n",
    "            \n",
    "            # Print the service call status\n",
    "            print(\"Status: \" + verification_response.service_call_status)\n",
    "\n",
    "            # Handle different statuses\n",
    "            if verification_response.service_call_status == \"Failed\":\n",
    "                print(\"Server not accessible, check licence\")\n",
    "                print(\"Verification Response:\" + verification_response.message)\n",
    "            elif verification_response.service_call_status == \"Running\":\n",
    "                print(\"Server accessible, code running\")\n",
    "            elif verification_response.service_call_status == \"Cancelled\":\n",
    "                print(\"Verification cancelled\")\n",
    "            elif verification_response.service_call_status == \"Finished\":\n",
    "                print(\"Verification finished successfully\")\n",
    "            else:\n",
    "                print(\"Undefined status\")\n",
    "\n",
    "    except Exception as e:\n",
    "        print(f\"Verification failed: {e}\")\n",
    "    \n",
    "    return output_dir_with_timestamp"
   ]
  }
 ],
 "metadata": {
  "kernelspec": {
   "display_name": "Python 3",
   "language": "python",
   "name": "python3"
  },
  "language_info": {
   "codemirror_mode": {
    "name": "ipython",
    "version": 3
   },
   "file_extension": ".py",
   "mimetype": "text/x-python",
   "name": "python",
   "nbconvert_exporter": "python",
   "pygments_lexer": "ipython3",
   "version": "3.12.7"
  }
 },
 "nbformat": 4,
 "nbformat_minor": 2
}
