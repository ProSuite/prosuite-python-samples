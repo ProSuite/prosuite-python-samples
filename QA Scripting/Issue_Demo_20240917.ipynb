{
 "cells": [
  {
   "cell_type": "code",
   "execution_count": 3,
   "metadata": {},
   "outputs": [
    {
     "name": "stdout",
     "output_type": "stream",
     "text": [
      "Creating external issue file geodatabase\n",
      "Status: Running\n",
      "Server accessible, code running\n",
      "Server error: Error HRESULT E_FAIL has been returned from a call to a COM component.\n",
      "Status: Failed\n",
      "Server not accessible, check licence\n",
      "Verification Response:Server error: Error HRESULT E_FAIL has been returned from a call to a COM component.\n"
     ]
    }
   ],
   "source": [
    "\"\"\"\n",
    "This script demonstrates how to use the ProSuite Python API to create a simple quality specification (without a DDX!)\n",
    "and run a here specified verification on a dataset.\n",
    "\n",
    "It also demonstrates how to handle issues that are returned from the verification\n",
    "and how to control the verification process based on the issues.\n",
    "\"\"\"\n",
    "\n",
    "import prosuite as ps\n",
    "\n",
    "# 1. Start ProSuite QA microservice (if not already running)\n",
    "\n",
    "# 2. Create & configure a Verification\n",
    "\n",
    "model = ps.Model(\"TopoModel\", \"D:\\Work\\TestData\\TLM\\ExtractStGallen.gdb\") # From \"ProSuite Documentation / SampleData.zip\"\n",
    "datasets = [ps.Dataset(\"TLM_FLIESSGEWAESSER\", model),\n",
    "            ps.Dataset(\"TLM_STRASSE\", model)]\n",
    "\n",
    "service = ps.Service(host_name='CRASSUS', port_nr=5151) # You might want to change this to the host and port of your ProSuite installation\n",
    "\n",
    "simpleSpecification = ps.Specification(\n",
    "    name='MinimumLengthSpecification',\n",
    "    description='A very simple quality specification checking feature and segment length of roads and rivers')\n",
    "\n",
    "for dataset in datasets:\n",
    "    simpleSpecification.add_condition(ps.Conditions.qa_min_length_0(dataset, limit=10, is3_d=False))\n",
    "    simpleSpecification.add_condition(ps.Conditions.qa_segment_length_0(dataset, 1.5, False))\n",
    "\n",
    "envelope = ps.EnvelopePerimeter(x_min=2750673, y_min=1215551, x_max=2765845, y_max=1206640)\n",
    "\n",
    "out_dir = 'C:/temp/verification_output_19' # You might want to change this to a directory that exists on your system, also make sure no Issue.gdb exists in this directory\n",
    "\n",
    "verification_responses = service.verify(specification=simpleSpecification, output_dir=out_dir, perimeter=envelope)\n",
    "\n",
    "# 3. Run Verification and handle issues with the Issue Object\n",
    "\n",
    "issue_allowable = True\n",
    "\n",
    "for verification_response in verification_responses:\n",
    "    print(verification_response.message)\n",
    "    if len(verification_response.issues) > 0:\n",
    "        for issue in verification_response.issues:\n",
    "            # Demo Prints\n",
    "\n",
    "            print(issue.description)\n",
    "            print(issue.involved_objects)\n",
    "            print(issue.geometry)\n",
    "            print(issue.issue_code)\n",
    "            print(issue.allowable)\n",
    "            print(issue.stop_condition)\n",
    "\n",
    "            if issue.allowable is False:\n",
    "                print(f\"Not allowed issue met: {issue.description} in {issue.involved_objects[0].table_name}\")\n",
    "                print(\"Stopping verification\")\n",
    "                issue_allowable = False\n",
    "                break\n",
    "\n",
    "    if issue_allowable is False:\n",
    "        break\n",
    "\n",
    "    print(\"Status: \"+verification_response.service_call_status)\n",
    "\n",
    "    if(verification_response.service_call_status == \"Failed\" ):\n",
    "        print(\"Server not accessible, check licence\")\n",
    "        print(\"Verification Response:\"+verification_response.message)\n",
    "    elif(verification_response.service_call_status == \"Running\"):\n",
    "        print(\"Server accessible, code running\")\n",
    "    elif(verification_response.service_call_status == \"Cancelled\"):\n",
    "        print(\"Cancelled\")\n",
    "    elif(verification_response.service_call_status == \"Finished\"):\n",
    "        print(\"Server accessible, code finished running\")\n",
    "    else:\n",
    "         print(\"Undifined\")\n",
    "\n",
    "    \n"
   ]
  },
  {
   "cell_type": "code",
   "execution_count": 21,
   "metadata": {},
   "outputs": [],
   "source": [
    "for verification_response in verification_responses:\n",
    "    print(verification_response.message)"
   ]
  },
  {
   "cell_type": "code",
   "execution_count": null,
   "metadata": {},
   "outputs": [],
   "source": []
  }
 ],
 "metadata": {
  "kernelspec": {
   "display_name": "egm_2024_v2",
   "language": "python",
   "name": "python3"
  },
  "language_info": {
   "codemirror_mode": {
    "name": "ipython",
    "version": 3
   },
   "file_extension": ".py",
   "mimetype": "text/x-python",
   "name": "python",
   "nbconvert_exporter": "python",
   "pygments_lexer": "ipython3",
   "version": "3.11.8"
  }
 },
 "nbformat": 4,
 "nbformat_minor": 2
}
