{
 "cells": [
  {
   "cell_type": "markdown",
   "metadata": {},
   "source": [
    "# GUI for Test Generation of Quality Conditions\n",
    "\n",
    "This interface assists you in creating and configuring quality conditions. Follow the steps below to use the GUI effectively.\n",
    "\n",
    "## Steps for Use\n",
    "\n",
    "1. **Select Test Type**:\n",
    "   - In the \"Test Type\" dropdown, choose the desired test type. This test type will define a specific quality condition.\n",
    "\n",
    "2. **Set Function Name**:\n",
    "   - In the \"Name function\" field, enter a name for your function. This name will be used in the generated Python code.\n",
    "\n",
    "3. **View Description**:\n",
    "   - After selecting the test type, a description of the test will automatically appear, explaining the purpose and function of the chosen quality condition.\n",
    "\n",
    "4. **Configure Parameters**:\n",
    "   - The specific parameters required for the selected test type will appear dynamically. These parameters include:\n",
    "     - **str**: A text field for entering string values.\n",
    "     - **int**: A numeric input for integer values.\n",
    "     - **double**: A numeric input for decimal values.\n",
    "     - **bool**: A checkbox for Yes/No values.\n",
    "     - **BaseDataset**: A dropdown field that loads dataset names from the selected geodatabase (`.gdb`).\n",
    "\n",
    "5. **Generate Code**:\n",
    "   - Once you have configured all the parameters, click the **\"Generate Code\"** button. T\n",
    "   - **Copy the generated code** and paste it into your main script in the select_and_run_qa_check part, specifically in the area of the function definitions such as:\n",
    "        - `select_and_run_qa_check`\n",
    "        - `run_ddx_check`\n",
    "        - `qa_min_length_check`\n",
    "        - `qa_segment_length_check`\n",
    "    5. This will ensure the generated code can be executed as part of your custom QA workflow.\n",
    "\n",
    "6. **View Example Code**:\n",
    "   - Below the \"Generate Code\" button, the generated Python code will appear. You can copy this code and use it in the Issue_Demo fileto add a new QA-test specification in the function **select_and_run_qa_check**.\n",
    "\n",
    "## Example Usage\n",
    "\n",
    "1. Enter the path to the geodatabase (`.gdb`) and click **Load Datasets** to load datasets.\n",
    "2. Select the desired test type and configure the parameters as required.\n",
    "3. Click **Generate Code** to produce the Python code.\n",
    "4. Use the generated code in your project to implement the quality condition.\n",
    "\n",
    "This interface is designed to be flexible, allowing you to easily select and customize various tests.\n"
   ]
  },
  {
   "cell_type": "code",
   "execution_count": 5,
   "metadata": {},
   "outputs": [
    {
     "data": {
      "application/vnd.jupyter.widget-view+json": {
       "model_id": "c1926f89dd48485d84109bca8e784e50",
       "version_major": 2,
       "version_minor": 0
      },
      "text/plain": [
       "Text(value='', description='GDB Path:', layout=Layout(width='50%'), placeholder='Enter .gdb path')"
      ]
     },
     "metadata": {},
     "output_type": "display_data"
    },
    {
     "data": {
      "application/vnd.jupyter.widget-view+json": {
       "model_id": "0afcef5ad2304b0fa946f9875d5f7aec",
       "version_major": 2,
       "version_minor": 0
      },
      "text/plain": [
       "Button(description='Load Datasets', layout=Layout(width='20%'), style=ButtonStyle())"
      ]
     },
     "metadata": {},
     "output_type": "display_data"
    },
    {
     "data": {
      "application/vnd.jupyter.widget-view+json": {
       "model_id": "8d7ac37925b84d3091cea9c97d800b66",
       "version_major": 2,
       "version_minor": 0
      },
      "text/plain": [
       "Text(value='', description='Name function:', style=TextStyle(description_width='initial'))"
      ]
     },
     "metadata": {},
     "output_type": "display_data"
    },
    {
     "data": {
      "application/vnd.jupyter.widget-view+json": {
       "model_id": "95a84c3631da41989a9ae28544f4e138",
       "version_major": 2,
       "version_minor": 0
      },
      "text/plain": [
       "Dropdown(description='Test Type:', options=(('Qa3D Constant Z 0', <__main__.TestDescriptor object at 0x0000028…"
      ]
     },
     "metadata": {},
     "output_type": "display_data"
    },
    {
     "data": {
      "application/vnd.jupyter.widget-view+json": {
       "model_id": "fa9f21a170654ec2af470a5577bfcec7",
       "version_major": 2,
       "version_minor": 0
      },
      "text/plain": [
       "Output()"
      ]
     },
     "metadata": {},
     "output_type": "display_data"
    },
    {
     "data": {
      "application/vnd.jupyter.widget-view+json": {
       "model_id": "2f224a31e6cf4fc3af3e0af20595a4a2",
       "version_major": 2,
       "version_minor": 0
      },
      "text/plain": [
       "Output()"
      ]
     },
     "metadata": {},
     "output_type": "display_data"
    },
    {
     "data": {
      "application/vnd.jupyter.widget-view+json": {
       "model_id": "57d006810fc14b128f4dc2517a2bb0e7",
       "version_major": 2,
       "version_minor": 0
      },
      "text/plain": [
       "Output()"
      ]
     },
     "metadata": {},
     "output_type": "display_data"
    }
   ],
   "source": [
    "\n",
    "%run gui_logic.ipynb\n",
    "generate_test_gui()"
   ]
  }
 ],
 "metadata": {
  "kernelspec": {
   "display_name": "Python 3",
   "language": "python",
   "name": "python3"
  },
  "language_info": {
   "codemirror_mode": {
    "name": "ipython",
    "version": 3
   },
   "file_extension": ".py",
   "mimetype": "text/x-python",
   "name": "python",
   "nbconvert_exporter": "python",
   "pygments_lexer": "ipython3",
   "version": "3.12.5"
  }
 },
 "nbformat": 4,
 "nbformat_minor": 2
}
