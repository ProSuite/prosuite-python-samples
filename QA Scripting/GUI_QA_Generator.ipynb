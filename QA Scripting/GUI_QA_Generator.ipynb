{
 "cells": [
  {
   "cell_type": "markdown",
   "metadata": {},
   "source": [
    "# GUI for Test Generation of Quality Conditions\n",
    "\n",
    "This interface assists you in creating and configuring quality conditions. Follow the steps below to use the GUI effectively.\n",
    "\n",
    "## Steps for Use\n",
    "\n",
    "1. **Select Test Type**:\n",
    "   - In the \"Test Type\" dropdown, choose the desired test type. This test type will define a specific quality condition.\n",
    "\n",
    "2. **Set Function Name**:\n",
    "   - In the \"Name function\" field, enter a name for your function. This name will be used in the generated Python code.\n",
    "\n",
    "3. **View Description**:\n",
    "   - After selecting the test type, a description of the test will automatically appear, explaining the purpose and function of the chosen quality condition.\n",
    "\n",
    "4. **Configure Parameters**:\n",
    "   - The specific parameters required for the selected test type will appear dynamically. These parameters include:\n",
    "     - **str**: A text field for entering string values.\n",
    "     - **int**: A numeric input for integer values.\n",
    "     - **double**: A numeric input for decimal values.\n",
    "     - **bool**: A checkbox for Yes/No values.\n",
    "     - **BaseDataset**: A dropdown field that loads dataset names from the selected geodatabase (`.gdb`).\n",
    "\n",
    "5. **Generate Code**:\n",
    "   - Once you have configured all the parameters, click the **\"Generate Code\"** button. T\n",
    "   - **Copy the generated code** and paste it into your main script in the select_and_run_qa_check part, specifically in the area of the function definitions such as:\n",
    "        - `select_and_run_qa_check`\n",
    "        - `run_ddx_check`\n",
    "        - `qa_min_length_check`\n",
    "        - `qa_segment_length_check`\n",
    "    5. This will ensure the generated code can be executed as part of your custom QA workflow.\n",
    "\n",
    "6. **View Example Code**:\n",
    "   - Below the \"Generate Code\" button, the generated Python code will appear. You can copy this code and use it in the Issue_Demo fileto add a new QA-test specification in the function **select_and_run_qa_check**.\n",
    "\n",
    "## Example Usage\n",
    "\n",
    "1. Enter the path to the geodatabase (`.gdb`) and click **Load Datasets** to load datasets.\n",
    "2. Select the desired test type and configure the parameters as required.\n",
    "3. Click **Generate Code** to produce the Python code.\n",
    "4. Use the generated code in your project to implement the quality condition.\n",
    "\n",
    "This interface is designed to be flexible, allowing you to easily select and customize various tests.\n"
   ]
  },
  {
   "cell_type": "code",
   "execution_count": 3,
   "metadata": {},
   "outputs": [
    {
     "data": {
      "application/vnd.jupyter.widget-view+json": {
       "model_id": "47d87caeacbf4b52adee72cffeede775",
       "version_major": 2,
       "version_minor": 0
      },
      "text/plain": [
       "Text(value='', description='GDB Path:', layout=Layout(width='50%'), placeholder='Enter .gdb path')"
      ]
     },
     "metadata": {},
     "output_type": "display_data"
    },
    {
     "data": {
      "application/vnd.jupyter.widget-view+json": {
       "model_id": "812c53a3a12143e7b205bbad676859ed",
       "version_major": 2,
       "version_minor": 0
      },
      "text/plain": [
       "Button(description='Load Datasets', layout=Layout(width='20%'), style=ButtonStyle())"
      ]
     },
     "metadata": {},
     "output_type": "display_data"
    },
    {
     "data": {
      "application/vnd.jupyter.widget-view+json": {
       "model_id": "f61a75bc01e64fb7ac5296a4d0320530",
       "version_major": 2,
       "version_minor": 0
      },
      "text/plain": [
       "Text(value='', description='Name function:', style=TextStyle(description_width='initial'))"
      ]
     },
     "metadata": {},
     "output_type": "display_data"
    },
    {
     "data": {
      "application/vnd.jupyter.widget-view+json": {
       "model_id": "895960911caa4f27849e0e4b592d998b",
       "version_major": 2,
       "version_minor": 0
      },
      "text/plain": [
       "Dropdown(description='Test Type:', options=(('Qa3D Constant Z 0', <__main__.TestDescriptor object at 0x0000028…"
      ]
     },
     "metadata": {},
     "output_type": "display_data"
    },
    {
     "data": {
      "application/vnd.jupyter.widget-view+json": {
       "model_id": "e795a8d9389e42cebc39a8de4dc9a9ff",
       "version_major": 2,
       "version_minor": 0
      },
      "text/plain": [
       "Output()"
      ]
     },
     "metadata": {},
     "output_type": "display_data"
    },
    {
     "data": {
      "application/vnd.jupyter.widget-view+json": {
       "model_id": "c9eb06e6069a4cffacf851ec6f7efb52",
       "version_major": 2,
       "version_minor": 0
      },
      "text/plain": [
       "Output()"
      ]
     },
     "metadata": {},
     "output_type": "display_data"
    },
    {
     "data": {
      "application/vnd.jupyter.widget-view+json": {
       "model_id": "e249ddacd6ac4b309cc63d7d067725c8",
       "version_major": 2,
       "version_minor": 0
      },
      "text/plain": [
       "Output()"
      ]
     },
     "metadata": {},
     "output_type": "display_data"
    },
    {
     "name": "stdout",
     "output_type": "stream",
     "text": [
      "Loaded datasets: ['TLM_AREALE_NAME_I', 'TLM_AREALE_NAMENSTEIL_I', 'TLM_BAUTEN_NAME_I', 'TLM_BAUTEN_NAMENSTEIL_I', 'TLM_BB_NAMENSTEIL_I', 'TLM_BB_NAME_I', 'TLM_EO_NAME_I', 'TLM_EO_NAMENSTEIL_I', 'TLM_FAEGROUTE_I', 'TLM_VERSION', 'GEWISS_REGION', 'TLM_SCHULE_I', 'TLM_GEBAEUDENUTZUNG_I', 'TLM_STROMTRASSE_I', 'TLM_GLAMOS_I', 'TLM_GEWAESSER_NAME_I', 'TLM_GEWAESSER_LAUF_I', 'TLM_GEWAESSER_REFERENZORT_I', 'TLM_GRENZEN_NAME_I', 'TLM_NAMEN_NAME_I', 'TLM_OEV_NAME_I', 'TLM_STRASSEN_NAME_I', 'TLM_FAEGWEG_I', 'TLM_MTBROUTE_I', 'TLM_MTBWEG_I', 'TLM_STRASSENROUTE_I', 'TLM_VELOROUTE_I', 'TLM_VELOWEG_I', 'TLM_WANDERROUTE_I', 'TLM_WANDERWEG_I', 'TLM_STRASSE_AVS_I', 'TLM_GEWAESSER_NAMENSTEIL_I', 'TLM_GRENZEN_NAMENSTEIL_I', 'TLM_NAMEN_NAMENSTEIL_I', 'TLM_OEV_NAMENSTEIL_I', 'TLM_STRASSEN_NAMENSTEIL_I', 'TLM_VERKEHRSAREAL_I', 'TLM_NUTZUNGSAREAL_I', 'TLM_FREIZEITAREAL_I', 'TLM_GEBAEUDEKOERPER_I', 'TLM_SCHNITTLINIE_I', 'TLM_DACH_GRUNDRISS_I', 'TLM_VERSORGUNGS_BAUTE_PLY_I', 'TLM_GEBAEUDEEINHEIT_I', 'TLM_SPORTBAUTE_LIN_I', 'TLM_VERBAUUNG_I', 'TLM_VERSORGUNGS_BAUTE_LIN_I', 'TLM_STAUBAUTE_I', 'TLM_SPORTBAUTE_PLY_I', 'TLM_DACH_I', 'TLM_GEBAEUDE_I', 'TLM_MAUER_I', 'TLM_LEITUNG_I', 'TLM_VERSORGUNGS_BAUTE_PKT_I', 'TLM_MAST_I', 'TLM_VERKEHRSBAUTE_PLY_I', 'TLM_GRUNDRISS_I', 'TLM_VERKEHRSBAUTE_LIN_I', 'TLM_GRUNDRISS_AV_V25_I', 'TLM_ABZUGSKOERPER_I', 'TLM_MORPH_KLEINFORM_PKT_I', 'TLM_MORPH_KLEINFORM_LIN_I', 'TLM_BODENBEDECKUNG_I', 'TLM_EINZELBAUM_GEBUESCH_I', 'TLM_EINZELOBJEKT_I', 'TLM_STEHENDES_GEWAESSER_I', 'TLM_FLIESSGEWAESSER_I', 'TLM_GEWAESSERNETZKNOTEN_I', 'TLM_BEZIRKSGEBIET_ZENTROID_I', 'TLM_HOHEITSGEBIET_ZENTROID_I', 'TLM_KANTONSGEBIET_ZENTROID_I', 'TLM_LANDESGEBIET_ZENTROID_I', 'TLM_HOHEITSGEBIET_I', 'TLM_HOHEITSGRENZE_I', 'TLM_SCHUTZGEBIET_I', 'TLM_HOEHENKOTE_I', 'TLM_FLURNAME_I', 'TLM_SIEDLUNGSNAME_I', 'TLM_GEBIETSNAME_I', 'TLM_NAME_PKT_I', 'TLM_GELAENDENAME_I', 'TLM_EISENBAHN_KNOTEN_I', 'TLM_STUETZE_I', 'TLM_UEBRIGE_BAHN_I', 'TLM_HALTESTELLE_I', 'TLM_SCHIFFFAHRT_I', 'TLM_EISENBAHN_I', 'TLM_SCHIFFFAHRT_KNOTEN_I', 'TLM_STRASSENINFO_I', 'TLM_STRASSE_I', 'TLM_AUS_EINFAHRT_I', 'TOPDV_RELEASE_CHANGES', 'TOPDV_RELEASE_INFO', 'TLM_FAEGROUTE_STRASSE_I', 'TLM_GEBAEUDE_NUTZUNG_I', 'TLM_GEBAEUDE_SCHNITTLINIE_I', 'TLM_LEITUNG_I_STROMTRASSE_I', 'TLM_MTBROUTE_STRASSE_I', 'TLM_NUTZUNGSAREAL_SCHULE_I', 'TLM_STRASSENROUTE_STRASSE_I', 'TLM_VELOROUTE_STRASSE_I', 'TLM_WANDERROUTE_STRASSE_I']\n"
     ]
    }
   ],
   "source": [
    "\n",
    "%run gui_logic.ipynb\n",
    "generate_test_gui()"
   ]
  },
  {
   "cell_type": "code",
   "execution_count": null,
   "metadata": {},
   "outputs": [],
   "source": [
    "\n",
    "\n"
   ]
  }
 ],
 "metadata": {
  "kernelspec": {
   "display_name": "Python 3",
   "language": "python",
   "name": "python3"
  },
  "language_info": {
   "codemirror_mode": {
    "name": "ipython",
    "version": 3
   },
   "file_extension": ".py",
   "mimetype": "text/x-python",
   "name": "python",
   "nbconvert_exporter": "python",
   "pygments_lexer": "ipython3",
   "version": "3.12.5"
  }
 },
 "nbformat": 4,
 "nbformat_minor": 2
}
